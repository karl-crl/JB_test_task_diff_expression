{
 "cells": [
  {
   "cell_type": "code",
   "execution_count": 17,
   "metadata": {},
   "outputs": [],
   "source": [
    "import pandas as pd\n",
    "import numpy as np\n",
    "from sklearn import tree"
   ]
  },
  {
   "cell_type": "markdown",
   "metadata": {},
   "source": [
    "# Задача 1\n",
    "Проведите анализ данных экспресии генов (https://www.ncbi.nlm.nih.gov/geo/query/acc.cgi?acc=GSE26728) :\n",
    "\n",
    "* 1 Информация о каком количестве генов есть в исследовании? Есть ли в данных дубликаты по генам? Что еще вы можете сказать о данных?\n",
    "* 2 Посчитайте средние значения экспресии каждого из генов в контроле, low_dose и high_dose. Если обнаружите дубликаты, усредните и их.\n",
    "* 3 Воспользуйтесь деревом решений высотой 2 и постройте классификаторы control vs low_dose, control vs high_dose. Какие гены оказались лучшими признаками для разделения? Совпали ли признаки в деревьях?"
   ]
  },
  {
   "cell_type": "markdown",
   "metadata": {},
   "source": [
    "## 1. \n",
    "\n",
    "Информация о каком количестве генов есть в исследовании? Есть ли в данных дубликаты по генам? Что еще вы можете сказать о данных?"
   ]
  },
  {
   "cell_type": "markdown",
   "metadata": {},
   "source": [
    "Скачаем общую таблицу экспрессии с помощью phantasus. Файл data.gct\n",
    "\n",
    "ID генов для конкретной платформы из эксперимента взяты с https://www.ncbi.nlm.nih.gov/geo/query/acc.cgi?acc=GPL7042 . Файл GPL7042-9573.txt GitHub не позволяет добавить его в репозиторий, поэтому прикладываю в README ссылку на гуглодрайв с файлом."
   ]
  },
  {
   "cell_type": "code",
   "execution_count": 2,
   "metadata": {},
   "outputs": [
    {
     "name": "stdout",
     "output_type": "stream",
     "text": [
      "(41247, 2)\n",
      "True\n",
      "False\n"
     ]
    },
    {
     "name": "stderr",
     "output_type": "stream",
     "text": [
      "/home/karl-crl/.apps/anaconda3/envs/working_env/lib/python3.7/site-packages/IPython/core/interactiveshell.py:3063: DtypeWarning: Columns (2) have mixed types.Specify dtype option on import or set low_memory=False.\n",
      "  interactivity=interactivity, compiler=compiler, result=result)\n"
     ]
    }
   ],
   "source": [
    "id_table = pd.read_table(\"GPL7042-9573.txt\")\n",
    "id_df = id_table[['ID', 'GENE']]\n",
    "print(id_df.shape)\n",
    "print(id_df['ID'].isna().any())\n",
    "print(id_df['ID'].duplicated().any())"
   ]
  },
  {
   "cell_type": "code",
   "execution_count": 3,
   "metadata": {},
   "outputs": [
    {
     "name": "stdout",
     "output_type": "stream",
     "text": [
      "(22514, 21)\n",
      "False\n",
      "False\n"
     ]
    }
   ],
   "source": [
    "df = pd.read_table(\"data.gct\")\n",
    "print(df.shape)\n",
    "print(df['id/title'].isna().any())\n",
    "print(df['id/title'].duplicated().any())\n",
    "genes = list(df['id/title'])"
   ]
  },
  {
   "cell_type": "code",
   "execution_count": 4,
   "metadata": {
    "scrolled": false
   },
   "outputs": [],
   "source": [
    "id_intersec = id_df[id_df['ID'].isin(genes)]"
   ]
  },
  {
   "cell_type": "code",
   "execution_count": 5,
   "metadata": {},
   "outputs": [
    {
     "name": "stdout",
     "output_type": "stream",
     "text": [
      "Всего \"генов\", т.е. id платформы в датасете: 22514\n",
      "Всего непустых генов, соответствующий id платформы: 20702\n",
      "Всего уникальных генов из них: 13322\n"
     ]
    }
   ],
   "source": [
    "print(f'Всего \"генов\", т.е. id платформы в датасете: {df.shape[0]}')\n",
    "print(f\"Всего непустых генов, соответствующий id платформы: {np.sum(id_intersec['GENE'].count())}\")\n",
    "print(f\"Всего уникальных генов из них: {id_intersec['GENE'].unique().shape[0]}\")"
   ]
  },
  {
   "cell_type": "markdown",
   "metadata": {},
   "source": [
    "Есть ли пусте значения в колонках?"
   ]
  },
  {
   "cell_type": "code",
   "execution_count": 6,
   "metadata": {},
   "outputs": [
    {
     "name": "stdout",
     "output_type": "stream",
     "text": [
      "Column id/title: False\n",
      "Column GENE_SYMBOL: True\n",
      "Column ID: True\n",
      "Column liver_control_rep1: False\n",
      "Column liver_control_rep2: False\n",
      "Column liver_control_rep3: False\n",
      "Column liver_control_rep4: False\n",
      "Column liver_control_rep5: False\n",
      "Column liver_control_rep6: False\n",
      "Column liver_BPALowDose_rep1: False\n",
      "Column liver_BPALowDose_rep2: False\n",
      "Column liver_BPALowDose_rep3: False\n",
      "Column liver_BPALowDose_rep4: False\n",
      "Column liver_BPALowDose_rep5: False\n",
      "Column liver_BPALowDose_rep6: False\n",
      "Column liver_BPAHighDose_rep1: False\n",
      "Column liver_BPAHighDose_rep2: False\n",
      "Column liver_BPAHighDose_rep3: False\n",
      "Column liver_BPAHighDose_rep4: False\n",
      "Column liver_BPAHighDose_rep5: False\n",
      "Column liver_BPAHighDose_rep6: False\n"
     ]
    }
   ],
   "source": [
    "for col in df.columns:\n",
    "    print(f\"Column {col}: {df[col].isna().any()}\")"
   ]
  },
  {
   "cell_type": "markdown",
   "metadata": {},
   "source": [
    "Только в GENE_SYMBOL и ID"
   ]
  },
  {
   "cell_type": "markdown",
   "metadata": {},
   "source": [
    "## 2\n",
    "\n",
    "Посчитайте средние значения экспресии каждого из генов в контроле, low_dose и high_dose. Если обнаружите дубликаты, усредните и их."
   ]
  },
  {
   "cell_type": "code",
   "execution_count": 7,
   "metadata": {},
   "outputs": [],
   "source": [
    "id_intersec.columns = ['id/title', 'GENE']"
   ]
  },
  {
   "cell_type": "code",
   "execution_count": 8,
   "metadata": {},
   "outputs": [],
   "source": [
    "df = df.merge(id_intersec, on = 'id/title')"
   ]
  },
  {
   "cell_type": "code",
   "execution_count": 9,
   "metadata": {},
   "outputs": [],
   "source": [
    "df = df.dropna(subset=['GENE'])"
   ]
  },
  {
   "cell_type": "code",
   "execution_count": 10,
   "metadata": {},
   "outputs": [],
   "source": [
    "df = df.drop(columns=['id/title', 'GENE_SYMBOL', 'ID'])"
   ]
  },
  {
   "cell_type": "code",
   "execution_count": 11,
   "metadata": {},
   "outputs": [],
   "source": [
    "df = df.groupby(['GENE']).mean()"
   ]
  },
  {
   "cell_type": "code",
   "execution_count": 12,
   "metadata": {},
   "outputs": [],
   "source": [
    "df_control = df[df.columns[0:6]]\n",
    "df_low = df[df.columns[6:12]]\n",
    "df_high = df[df.columns[12:18]]"
   ]
  },
  {
   "cell_type": "markdown",
   "metadata": {},
   "source": [
    "Среднее для контроля"
   ]
  },
  {
   "cell_type": "code",
   "execution_count": 13,
   "metadata": {},
   "outputs": [
    {
     "data": {
      "text/plain": [
       "GENE\n",
       "11287.0        15.355667\n",
       "11298.0         6.124500\n",
       "11302.0         7.779000\n",
       "11303.0        11.235167\n",
       "11305.0         8.555083\n",
       "                 ...    \n",
       "100505263.0     9.226667\n",
       "100505358.0     6.007833\n",
       "100526796.0     6.003500\n",
       "100529082.0    14.529500\n",
       "100616095.0     7.918500\n",
       "Length: 13321, dtype: float64"
      ]
     },
     "execution_count": 13,
     "metadata": {},
     "output_type": "execute_result"
    }
   ],
   "source": [
    "mean_control = df_control.mean(axis=1)\n",
    "mean_control.index = df.index\n",
    "mean_control"
   ]
  },
  {
   "cell_type": "markdown",
   "metadata": {},
   "source": [
    "Среднее для низкой дозы"
   ]
  },
  {
   "cell_type": "code",
   "execution_count": 14,
   "metadata": {},
   "outputs": [
    {
     "data": {
      "text/plain": [
       "GENE\n",
       "11287.0        15.364167\n",
       "11298.0         5.995500\n",
       "11302.0         7.540667\n",
       "11303.0        11.586667\n",
       "11305.0         8.476667\n",
       "                 ...    \n",
       "100505263.0     7.808333\n",
       "100505358.0     6.289167\n",
       "100526796.0     5.846833\n",
       "100529082.0    14.468333\n",
       "100616095.0     8.021667\n",
       "Length: 13321, dtype: float64"
      ]
     },
     "execution_count": 14,
     "metadata": {},
     "output_type": "execute_result"
    }
   ],
   "source": [
    "mean_low = df_low.mean(axis=1)\n",
    "mean_low.index = df.index\n",
    "mean_low"
   ]
  },
  {
   "cell_type": "code",
   "execution_count": 15,
   "metadata": {},
   "outputs": [
    {
     "data": {
      "text/plain": [
       "GENE\n",
       "11287.0        15.365167\n",
       "11298.0         6.137000\n",
       "11302.0         7.862000\n",
       "11303.0        11.548167\n",
       "11305.0         8.689417\n",
       "                 ...    \n",
       "100505263.0     7.832833\n",
       "100505358.0     6.286667\n",
       "100526796.0     5.954667\n",
       "100529082.0    14.748500\n",
       "100616095.0     7.944167\n",
       "Length: 13321, dtype: float64"
      ]
     },
     "execution_count": 15,
     "metadata": {},
     "output_type": "execute_result"
    }
   ],
   "source": [
    "mean_high = df_high.mean(axis=1)\n",
    "mean_high.index = df.index\n",
    "mean_high"
   ]
  },
  {
   "cell_type": "markdown",
   "metadata": {},
   "source": [
    "## 3\n",
    "Воспользуйтесь деревом решений высотой 2 и постройте классификаторы control vs low_dose, control vs high_dose. Какие гены оказались лучшими признаками для разделения? Совпали ли признаки в деревьях?"
   ]
  },
  {
   "cell_type": "code",
   "execution_count": 21,
   "metadata": {},
   "outputs": [
    {
     "data": {
      "text/plain": [
       "[Text(167.4, 163.07999999999998, 'X[6131] <= 9.459\\ngini = 0.5\\nsamples = 12\\nvalue = [6, 6]'),\n",
       " Text(83.7, 54.360000000000014, 'gini = 0.0\\nsamples = 6\\nvalue = [6, 0]'),\n",
       " Text(251.10000000000002, 54.360000000000014, 'gini = 0.0\\nsamples = 6\\nvalue = [0, 6]')]"
      ]
     },
     "execution_count": 21,
     "metadata": {},
     "output_type": "execute_result"
    },
    {
     "data": {
      "image/png": "[encoded data removed]",
      "text/plain": [
       "<Figure size 432x288 with 1 Axes>"
      ]
     },
     "metadata": {
      "needs_background": "light"
     },
     "output_type": "display_data"
    }
   ],
   "source": [
    "df_control_vs_low = df[df.columns[0:12]]\n",
    "df_control_vs_low = df_control_vs_low.transpose()\n",
    "tre = tree.DecisionTreeClassifier(max_depth = 2, random_state = 0, min_impurity_decrease = 0)\n",
    "tre.fit(df_control_vs_low.to_numpy(), [0]*6 + [1]*6)\n",
    "tree.plot_tree(tre)"
   ]
  },
  {
   "cell_type": "code",
   "execution_count": 22,
   "metadata": {},
   "outputs": [
    {
     "data": {
      "text/plain": [
       "[Text(167.4, 163.07999999999998, 'X[7146] <= 7.172\\ngini = 0.5\\nsamples = 12\\nvalue = [6, 6]'),\n",
       " Text(83.7, 54.360000000000014, 'gini = 0.0\\nsamples = 6\\nvalue = [0, 6]'),\n",
       " Text(251.10000000000002, 54.360000000000014, 'gini = 0.0\\nsamples = 6\\nvalue = [6, 0]')]"
      ]
     },
     "execution_count": 22,
     "metadata": {},
     "output_type": "execute_result"
    },
    {
     "data": {
      "image/png": "[encoded data removed]",
      "text/plain": [
       "<Figure size 432x288 with 1 Axes>"
      ]
     },
     "metadata": {
      "needs_background": "light"
     },
     "output_type": "display_data"
    }
   ],
   "source": [
    "df_control_vs_high = df[df.columns[0:6].append(df.columns[12:])]\n",
    "df_control_vs_high = df_control_vs_high.transpose()\n",
    "tre = tree.DecisionTreeClassifier(max_depth = 2, random_state = 0, min_impurity_decrease = 0)\n",
    "tre.fit(df_control_vs_high.to_numpy(), [0]*6 + [1]*6)\n",
    "tree.plot_tree(tre)"
   ]
  },
  {
   "cell_type": "markdown",
   "metadata": {},
   "source": [
    "Оба классификатора смогли построить только деревья размера 1. Дальнейшее деление не приводит к уменьшению impurity. \n",
    "\n",
    "Признаки в деревьях не совпали.\n",
    "\n",
    "С этим может справится random forest на пеньках, но это просто к тому, что можно было бы сделать."
   ]
  },
  {
   "cell_type": "markdown",
   "metadata": {},
   "source": [
    "# Задача 2\n",
    "\n",
    "Ознакомьтесь с данными экспрессии генов: https://www.ncbi.nlm.nih.gov/geo/query/acc.cgi?acc=GSE26728\n",
    "\n",
    "Ответьте на следующие вопросы:\n",
    "\n",
    "* Что исследовалось?\n",
    "\n",
    "Влияние низких и высоких доз BPA на транскриптом печени мыши. Основная цель --- выявить какое-либо влияние низких доз BPA, чтобы понять, могут ли утечки малых доз BPA в промышленности влиять на здоровье людей.\n",
    "\n",
    "* Какие дозы BPA использовались?\n",
    "\n",
    "Контроль --- отсутствие BPA, low_dose --- 50 µg/kg/day, high_dose --- 5000 µg/kg/day.\n",
    "\n",
    "* Сколько особей использовалось?\n",
    "\n",
    "18 мужских особей."
   ]
  }
 ],
 "metadata": {
  "kernelspec": {
   "display_name": "Python 3",
   "language": "python",
   "name": "python3"
  },
  "language_info": {
   "codemirror_mode": {
    "name": "ipython",
    "version": 3
   },
   "file_extension": ".py",
   "mimetype": "text/x-python",
   "name": "python",
   "nbconvert_exporter": "python",
   "pygments_lexer": "ipython3",
   "version": "3.7.6"
  }
 },
 "nbformat": 4,
 "nbformat_minor": 4
}
